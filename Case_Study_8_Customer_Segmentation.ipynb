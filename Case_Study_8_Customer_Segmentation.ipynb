{
 "cells": [
  {
   "cell_type": "markdown",
   "id": "63e68978",
   "metadata": {},
   "source": [
    "### Customer Segmentation: \n",
    "        To segment different customers on the basis of their purchases using kmeans clustering"
   ]
  },
  {
   "cell_type": "markdown",
   "id": "739a9a3e",
   "metadata": {},
   "source": [
    "### Importing libraries & Dataset"
   ]
  },
  {
   "cell_type": "code",
   "execution_count": 1,
   "id": "b893bc6c",
   "metadata": {
    "execution": {
     "iopub.execute_input": "2021-05-24T13:13:48.733168Z",
     "iopub.status.busy": "2021-05-24T13:13:48.732524Z",
     "iopub.status.idle": "2021-05-24T13:13:49.937952Z",
     "shell.execute_reply": "2021-05-24T13:13:49.938429Z",
     "shell.execute_reply.started": "2021-05-23T17:44:15.929215Z"
    },
    "papermill": {
     "duration": 1.233812,
     "end_time": "2021-05-24T13:13:49.938695",
     "exception": false,
     "start_time": "2021-05-24T13:13:48.704883",
     "status": "completed"
    },
    "tags": []
   },
   "outputs": [],
   "source": [
    "# Libraries\n",
    "import numpy as np   \n",
    "import pandas as pd\n",
    "import matplotlib.pyplot as plt\n",
    "import seaborn as sns \n",
    "from sklearn.cluster import KMeans"
   ]
  },
  {
   "cell_type": "code",
   "execution_count": 2,
   "id": "71997749",
   "metadata": {
    "execution": {
     "iopub.execute_input": "2021-05-24T13:13:50.020843Z",
     "iopub.status.busy": "2021-05-24T13:13:50.020240Z",
     "iopub.status.idle": "2021-05-24T13:13:50.080572Z",
     "shell.execute_reply": "2021-05-24T13:13:50.080990Z",
     "shell.execute_reply.started": "2021-05-23T17:44:15.939024Z"
    },
    "papermill": {
     "duration": 0.08326,
     "end_time": "2021-05-24T13:13:50.081153",
     "exception": false,
     "start_time": "2021-05-24T13:13:49.997893",
     "status": "completed"
    },
    "tags": []
   },
   "outputs": [
    {
     "data": {
      "text/html": [
       "<div>\n",
       "<style scoped>\n",
       "    .dataframe tbody tr th:only-of-type {\n",
       "        vertical-align: middle;\n",
       "    }\n",
       "\n",
       "    .dataframe tbody tr th {\n",
       "        vertical-align: top;\n",
       "    }\n",
       "\n",
       "    .dataframe thead th {\n",
       "        text-align: right;\n",
       "    }\n",
       "</style>\n",
       "<table border=\"1\" class=\"dataframe\">\n",
       "  <thead>\n",
       "    <tr style=\"text-align: right;\">\n",
       "      <th></th>\n",
       "      <th>CustomerID</th>\n",
       "      <th>Gender</th>\n",
       "      <th>Age</th>\n",
       "      <th>Annual Income (k$)</th>\n",
       "      <th>Spending Score (1-100)</th>\n",
       "    </tr>\n",
       "  </thead>\n",
       "  <tbody>\n",
       "    <tr>\n",
       "      <th>0</th>\n",
       "      <td>1</td>\n",
       "      <td>Male</td>\n",
       "      <td>19</td>\n",
       "      <td>15</td>\n",
       "      <td>39</td>\n",
       "    </tr>\n",
       "    <tr>\n",
       "      <th>1</th>\n",
       "      <td>2</td>\n",
       "      <td>Male</td>\n",
       "      <td>21</td>\n",
       "      <td>15</td>\n",
       "      <td>81</td>\n",
       "    </tr>\n",
       "    <tr>\n",
       "      <th>2</th>\n",
       "      <td>3</td>\n",
       "      <td>Female</td>\n",
       "      <td>20</td>\n",
       "      <td>16</td>\n",
       "      <td>6</td>\n",
       "    </tr>\n",
       "    <tr>\n",
       "      <th>3</th>\n",
       "      <td>4</td>\n",
       "      <td>Female</td>\n",
       "      <td>23</td>\n",
       "      <td>16</td>\n",
       "      <td>77</td>\n",
       "    </tr>\n",
       "    <tr>\n",
       "      <th>4</th>\n",
       "      <td>5</td>\n",
       "      <td>Female</td>\n",
       "      <td>31</td>\n",
       "      <td>17</td>\n",
       "      <td>40</td>\n",
       "    </tr>\n",
       "  </tbody>\n",
       "</table>\n",
       "</div>"
      ],
      "text/plain": [
       "   CustomerID  Gender  Age  Annual Income (k$)  Spending Score (1-100)\n",
       "0           1    Male   19                  15                      39\n",
       "1           2    Male   21                  15                      81\n",
       "2           3  Female   20                  16                       6\n",
       "3           4  Female   23                  16                      77\n",
       "4           5  Female   31                  17                      40"
      ]
     },
     "execution_count": 2,
     "metadata": {},
     "output_type": "execute_result"
    }
   ],
   "source": [
    "# Dataset\n",
    "data=pd.read_csv('F:\\DataSet/data.csv')\n",
    "data.head()"
   ]
  },
  {
   "cell_type": "markdown",
   "id": "1e9a377b",
   "metadata": {},
   "source": [
    "### Checking missing values"
   ]
  },
  {
   "cell_type": "code",
   "execution_count": 3,
   "id": "429e13cf",
   "metadata": {
    "execution": {
     "iopub.execute_input": "2021-05-24T13:13:50.126231Z",
     "iopub.status.busy": "2021-05-24T13:13:50.125617Z",
     "iopub.status.idle": "2021-05-24T13:13:50.131668Z",
     "shell.execute_reply": "2021-05-24T13:13:50.132081Z",
     "shell.execute_reply.started": "2021-05-23T17:44:15.966156Z"
    },
    "papermill": {
     "duration": 0.030136,
     "end_time": "2021-05-24T13:13:50.132244",
     "exception": false,
     "start_time": "2021-05-24T13:13:50.102108",
     "status": "completed"
    },
    "tags": []
   },
   "outputs": [
    {
     "data": {
      "text/plain": [
       "CustomerID                0\n",
       "Gender                    0\n",
       "Age                       0\n",
       "Annual Income (k$)        0\n",
       "Spending Score (1-100)    0\n",
       "dtype: int64"
      ]
     },
     "execution_count": 3,
     "metadata": {},
     "output_type": "execute_result"
    }
   ],
   "source": [
    "data.isnull().sum() #no missing values"
   ]
  },
  {
   "cell_type": "markdown",
   "id": "1dc46673",
   "metadata": {},
   "source": [
    "### Bivariate Analysis\n",
    "a) Age v/s Spending Score"
   ]
  },
  {
   "cell_type": "code",
   "execution_count": 4,
   "id": "9f4098a8",
   "metadata": {
    "execution": {
     "iopub.execute_input": "2021-05-24T13:13:50.176074Z",
     "iopub.status.busy": "2021-05-24T13:13:50.175514Z",
     "iopub.status.idle": "2021-05-24T13:13:50.377646Z",
     "shell.execute_reply": "2021-05-24T13:13:50.377222Z",
     "shell.execute_reply.started": "2021-05-23T17:44:15.975843Z"
    },
    "papermill": {
     "duration": 0.225003,
     "end_time": "2021-05-24T13:13:50.377788",
     "exception": false,
     "start_time": "2021-05-24T13:13:50.152785",
     "status": "completed"
    },
    "tags": []
   },
   "outputs": [
    {
     "data": {
      "image/png": "[encoded data removed]",
      "text/plain": [
       "<Figure size 432x288 with 1 Axes>"
      ]
     },
     "metadata": {
      "needs_background": "light"
     },
     "output_type": "display_data"
    }
   ],
   "source": [
    "plt.scatter(data['Age'],data['Spending Score (1-100)'])\n",
    "plt.xlabel('Age')\n",
    "plt.ylabel('Spending Score (1-100)')\n",
    "plt.grid(linestyle = '--')\n",
    "plt.show()"
   ]
  },
  {
   "cell_type": "code",
   "execution_count": 5,
   "id": "1693c870",
   "metadata": {
    "execution": {
     "iopub.execute_input": "2021-05-24T13:13:50.431211Z",
     "iopub.status.busy": "2021-05-24T13:13:50.430408Z",
     "iopub.status.idle": "2021-05-24T13:13:50.434097Z",
     "shell.execute_reply": "2021-05-24T13:13:50.433628Z",
     "shell.execute_reply.started": "2021-05-23T17:44:16.186743Z"
    },
    "papermill": {
     "duration": 0.035137,
     "end_time": "2021-05-24T13:13:50.434222",
     "exception": false,
     "start_time": "2021-05-24T13:13:50.399085",
     "status": "completed"
    },
    "tags": []
   },
   "outputs": [
    {
     "data": {
      "text/html": [
       "<div>\n",
       "<style scoped>\n",
       "    .dataframe tbody tr th:only-of-type {\n",
       "        vertical-align: middle;\n",
       "    }\n",
       "\n",
       "    .dataframe tbody tr th {\n",
       "        vertical-align: top;\n",
       "    }\n",
       "\n",
       "    .dataframe thead th {\n",
       "        text-align: right;\n",
       "    }\n",
       "</style>\n",
       "<table border=\"1\" class=\"dataframe\">\n",
       "  <thead>\n",
       "    <tr style=\"text-align: right;\">\n",
       "      <th></th>\n",
       "      <th>Age</th>\n",
       "      <th>Spending Score (1-100)</th>\n",
       "    </tr>\n",
       "  </thead>\n",
       "  <tbody>\n",
       "    <tr>\n",
       "      <th>0</th>\n",
       "      <td>19</td>\n",
       "      <td>39</td>\n",
       "    </tr>\n",
       "    <tr>\n",
       "      <th>1</th>\n",
       "      <td>21</td>\n",
       "      <td>81</td>\n",
       "    </tr>\n",
       "    <tr>\n",
       "      <th>2</th>\n",
       "      <td>20</td>\n",
       "      <td>6</td>\n",
       "    </tr>\n",
       "    <tr>\n",
       "      <th>3</th>\n",
       "      <td>23</td>\n",
       "      <td>77</td>\n",
       "    </tr>\n",
       "    <tr>\n",
       "      <th>4</th>\n",
       "      <td>31</td>\n",
       "      <td>40</td>\n",
       "    </tr>\n",
       "    <tr>\n",
       "      <th>...</th>\n",
       "      <td>...</td>\n",
       "      <td>...</td>\n",
       "    </tr>\n",
       "    <tr>\n",
       "      <th>195</th>\n",
       "      <td>35</td>\n",
       "      <td>79</td>\n",
       "    </tr>\n",
       "    <tr>\n",
       "      <th>196</th>\n",
       "      <td>45</td>\n",
       "      <td>28</td>\n",
       "    </tr>\n",
       "    <tr>\n",
       "      <th>197</th>\n",
       "      <td>32</td>\n",
       "      <td>74</td>\n",
       "    </tr>\n",
       "    <tr>\n",
       "      <th>198</th>\n",
       "      <td>32</td>\n",
       "      <td>18</td>\n",
       "    </tr>\n",
       "    <tr>\n",
       "      <th>199</th>\n",
       "      <td>30</td>\n",
       "      <td>83</td>\n",
       "    </tr>\n",
       "  </tbody>\n",
       "</table>\n",
       "<p>200 rows × 2 columns</p>\n",
       "</div>"
      ],
      "text/plain": [
       "     Age  Spending Score (1-100)\n",
       "0     19                      39\n",
       "1     21                      81\n",
       "2     20                       6\n",
       "3     23                      77\n",
       "4     31                      40\n",
       "..   ...                     ...\n",
       "195   35                      79\n",
       "196   45                      28\n",
       "197   32                      74\n",
       "198   32                      18\n",
       "199   30                      83\n",
       "\n",
       "[200 rows x 2 columns]"
      ]
     },
     "execution_count": 5,
     "metadata": {},
     "output_type": "execute_result"
    }
   ],
   "source": [
    "# Taking only 'Age' and 'Spending Score (1-100)' columns\n",
    "x=data[['Age','Spending Score (1-100)']]\n",
    "x"
   ]
  },
  {
   "cell_type": "markdown",
   "id": "9fe70817",
   "metadata": {},
   "source": [
    "### Initializing centroids and finding out the best no. of groups"
   ]
  },
  {
   "cell_type": "code",
   "execution_count": 6,
   "id": "095c7e62",
   "metadata": {
    "execution": {
     "iopub.execute_input": "2021-05-24T13:13:50.480894Z",
     "iopub.status.busy": "2021-05-24T13:13:50.480058Z",
     "iopub.status.idle": "2021-05-24T13:13:50.935610Z",
     "shell.execute_reply": "2021-05-24T13:13:50.936057Z",
     "shell.execute_reply.started": "2021-05-23T17:44:16.202364Z"
    },
    "papermill": {
     "duration": 0.480358,
     "end_time": "2021-05-24T13:13:50.936247",
     "exception": false,
     "start_time": "2021-05-24T13:13:50.455889",
     "status": "completed"
    },
    "tags": []
   },
   "outputs": [
    {
     "name": "stderr",
     "output_type": "stream",
     "text": [
      "C:\\Users\\nupur\\anaconda3\\lib\\site-packages\\sklearn\\cluster\\_kmeans.py:881: UserWarning: KMeans is known to have a memory leak on Windows with MKL, when there are less chunks than available threads. You can avoid it by setting the environment variable OMP_NUM_THREADS=1.\n",
      "  warnings.warn(\n"
     ]
    }
   ],
   "source": [
    "# Creating empty list, wcss, to store the sum of squared distance within a cluster.\n",
    "wcss=[]\n",
    "for i in range(1,10):\n",
    "    kmeans = KMeans(n_clusters = i, init = 'k-means++', max_iter = 300, n_init = 10, random_state = 0)\n",
    "    kmeans.fit(x)\n",
    "    wcss.append(kmeans.inertia_)\n"
   ]
  },
  {
   "cell_type": "markdown",
   "id": "66bb1ec8",
   "metadata": {},
   "source": [
    "### Visualizing to find the best no. of cluster (Elbow method)"
   ]
  },
  {
   "cell_type": "code",
   "execution_count": 7,
   "id": "ac957eb7",
   "metadata": {
    "execution": {
     "iopub.execute_input": "2021-05-24T13:13:51.005633Z",
     "iopub.status.busy": "2021-05-24T13:13:51.004256Z",
     "iopub.status.idle": "2021-05-24T13:13:51.165795Z",
     "shell.execute_reply": "2021-05-24T13:13:51.165332Z",
     "shell.execute_reply.started": "2021-05-23T17:44:16.609216Z"
    },
    "papermill": {
     "duration": 0.207283,
     "end_time": "2021-05-24T13:13:51.165922",
     "exception": false,
     "start_time": "2021-05-24T13:13:50.958639",
     "status": "completed"
    },
    "tags": []
   },
   "outputs": [
    {
     "data": {
      "image/png": "[encoded data removed]",
      "text/plain": [
       "<Figure size 432x288 with 1 Axes>"
      ]
     },
     "metadata": {
      "needs_background": "light"
     },
     "output_type": "display_data"
    }
   ],
   "source": [
    "no_of_clusters=range(1,10)\n",
    "plt.plot(no_of_clusters,wcss)\n",
    "plt.grid(linestyle = '--')\n",
    "plt.show()"
   ]
  },
  {
   "cell_type": "code",
   "execution_count": 8,
   "id": "a9a9c55a",
   "metadata": {
    "execution": {
     "iopub.execute_input": "2021-05-24T13:13:51.218544Z",
     "iopub.status.busy": "2021-05-24T13:13:51.217590Z",
     "iopub.status.idle": "2021-05-24T13:13:51.252390Z",
     "shell.execute_reply": "2021-05-24T13:13:51.251948Z",
     "shell.execute_reply.started": "2021-05-23T17:44:16.788839Z"
    },
    "papermill": {
     "duration": 0.063569,
     "end_time": "2021-05-24T13:13:51.252515",
     "exception": false,
     "start_time": "2021-05-24T13:13:51.188946",
     "status": "completed"
    },
    "tags": []
   },
   "outputs": [],
   "source": [
    "# Taking k = 4 and fitting the data\n",
    "kmeans = KMeans(4)"
   ]
  },
  {
   "cell_type": "markdown",
   "id": "005b5e64",
   "metadata": {},
   "source": [
    "### Fitting and predicting the data clusters"
   ]
  },
  {
   "cell_type": "code",
   "execution_count": 9,
   "id": "235b241f",
   "metadata": {
    "execution": {
     "iopub.execute_input": "2021-05-24T13:13:51.303891Z",
     "iopub.status.busy": "2021-05-24T13:13:51.303319Z",
     "iopub.status.idle": "2021-05-24T13:13:51.334259Z",
     "shell.execute_reply": "2021-05-24T13:13:51.333848Z",
     "shell.execute_reply.started": "2021-05-23T17:44:16.827573Z"
    },
    "papermill": {
     "duration": 0.05876,
     "end_time": "2021-05-24T13:13:51.334381",
     "exception": false,
     "start_time": "2021-05-24T13:13:51.275621",
     "status": "completed"
    },
    "tags": []
   },
   "outputs": [
    {
     "data": {
      "text/plain": [
       "array([1, 3, 2, 3, 1, 3, 2, 3, 2, 3, 2, 3, 2, 3, 2, 3, 1, 1, 2, 3, 1, 3,\n",
       "       2, 3, 2, 3, 2, 1, 2, 3, 2, 3, 2, 3, 2, 3, 2, 3, 2, 3, 0, 3, 0, 1,\n",
       "       2, 1, 0, 1, 1, 1, 0, 1, 1, 0, 0, 0, 0, 0, 1, 0, 0, 1, 0, 0, 0, 1,\n",
       "       0, 0, 1, 1, 0, 0, 0, 0, 0, 1, 0, 1, 1, 0, 0, 1, 0, 0, 1, 0, 0, 1,\n",
       "       1, 0, 0, 1, 0, 1, 1, 1, 0, 1, 0, 1, 1, 0, 0, 1, 0, 1, 0, 0, 0, 0,\n",
       "       0, 1, 1, 1, 1, 1, 0, 0, 0, 0, 1, 1, 1, 3, 1, 3, 0, 3, 2, 3, 2, 3,\n",
       "       1, 3, 2, 3, 2, 3, 2, 3, 2, 3, 1, 3, 2, 3, 0, 3, 2, 3, 2, 3, 2, 3,\n",
       "       2, 3, 2, 3, 2, 3, 0, 3, 2, 3, 2, 3, 2, 3, 2, 1, 2, 3, 2, 3, 2, 3,\n",
       "       2, 3, 2, 3, 2, 3, 2, 3, 1, 3, 2, 3, 2, 3, 2, 3, 2, 3, 2, 3, 2, 3,\n",
       "       2, 3])"
      ]
     },
     "execution_count": 9,
     "metadata": {},
     "output_type": "execute_result"
    }
   ],
   "source": [
    "identified_clusters=kmeans.fit_predict(x)\n",
    "identified_clusters"
   ]
  },
  {
   "cell_type": "markdown",
   "id": "f6c3fa05",
   "metadata": {},
   "source": [
    "### Merging the original dataset with number of clusters"
   ]
  },
  {
   "cell_type": "code",
   "execution_count": 10,
   "id": "97ae862c",
   "metadata": {
    "execution": {
     "iopub.execute_input": "2021-05-24T13:13:51.395685Z",
     "iopub.status.busy": "2021-05-24T13:13:51.395117Z",
     "iopub.status.idle": "2021-05-24T13:13:51.398569Z",
     "shell.execute_reply": "2021-05-24T13:13:51.398058Z",
     "shell.execute_reply.started": "2021-05-23T17:44:16.861323Z"
    },
    "papermill": {
     "duration": 0.041087,
     "end_time": "2021-05-24T13:13:51.398690",
     "exception": false,
     "start_time": "2021-05-24T13:13:51.357603",
     "status": "completed"
    },
    "tags": []
   },
   "outputs": [
    {
     "data": {
      "text/html": [
       "<div>\n",
       "<style scoped>\n",
       "    .dataframe tbody tr th:only-of-type {\n",
       "        vertical-align: middle;\n",
       "    }\n",
       "\n",
       "    .dataframe tbody tr th {\n",
       "        vertical-align: top;\n",
       "    }\n",
       "\n",
       "    .dataframe thead th {\n",
       "        text-align: right;\n",
       "    }\n",
       "</style>\n",
       "<table border=\"1\" class=\"dataframe\">\n",
       "  <thead>\n",
       "    <tr style=\"text-align: right;\">\n",
       "      <th></th>\n",
       "      <th>CustomerID</th>\n",
       "      <th>Gender</th>\n",
       "      <th>Age</th>\n",
       "      <th>Annual Income (k$)</th>\n",
       "      <th>Spending Score (1-100)</th>\n",
       "      <th>Clusters</th>\n",
       "    </tr>\n",
       "  </thead>\n",
       "  <tbody>\n",
       "    <tr>\n",
       "      <th>0</th>\n",
       "      <td>1</td>\n",
       "      <td>Male</td>\n",
       "      <td>19</td>\n",
       "      <td>15</td>\n",
       "      <td>39</td>\n",
       "      <td>1</td>\n",
       "    </tr>\n",
       "    <tr>\n",
       "      <th>1</th>\n",
       "      <td>2</td>\n",
       "      <td>Male</td>\n",
       "      <td>21</td>\n",
       "      <td>15</td>\n",
       "      <td>81</td>\n",
       "      <td>3</td>\n",
       "    </tr>\n",
       "    <tr>\n",
       "      <th>2</th>\n",
       "      <td>3</td>\n",
       "      <td>Female</td>\n",
       "      <td>20</td>\n",
       "      <td>16</td>\n",
       "      <td>6</td>\n",
       "      <td>2</td>\n",
       "    </tr>\n",
       "    <tr>\n",
       "      <th>3</th>\n",
       "      <td>4</td>\n",
       "      <td>Female</td>\n",
       "      <td>23</td>\n",
       "      <td>16</td>\n",
       "      <td>77</td>\n",
       "      <td>3</td>\n",
       "    </tr>\n",
       "    <tr>\n",
       "      <th>4</th>\n",
       "      <td>5</td>\n",
       "      <td>Female</td>\n",
       "      <td>31</td>\n",
       "      <td>17</td>\n",
       "      <td>40</td>\n",
       "      <td>1</td>\n",
       "    </tr>\n",
       "    <tr>\n",
       "      <th>...</th>\n",
       "      <td>...</td>\n",
       "      <td>...</td>\n",
       "      <td>...</td>\n",
       "      <td>...</td>\n",
       "      <td>...</td>\n",
       "      <td>...</td>\n",
       "    </tr>\n",
       "    <tr>\n",
       "      <th>195</th>\n",
       "      <td>196</td>\n",
       "      <td>Female</td>\n",
       "      <td>35</td>\n",
       "      <td>120</td>\n",
       "      <td>79</td>\n",
       "      <td>3</td>\n",
       "    </tr>\n",
       "    <tr>\n",
       "      <th>196</th>\n",
       "      <td>197</td>\n",
       "      <td>Female</td>\n",
       "      <td>45</td>\n",
       "      <td>126</td>\n",
       "      <td>28</td>\n",
       "      <td>2</td>\n",
       "    </tr>\n",
       "    <tr>\n",
       "      <th>197</th>\n",
       "      <td>198</td>\n",
       "      <td>Male</td>\n",
       "      <td>32</td>\n",
       "      <td>126</td>\n",
       "      <td>74</td>\n",
       "      <td>3</td>\n",
       "    </tr>\n",
       "    <tr>\n",
       "      <th>198</th>\n",
       "      <td>199</td>\n",
       "      <td>Male</td>\n",
       "      <td>32</td>\n",
       "      <td>137</td>\n",
       "      <td>18</td>\n",
       "      <td>2</td>\n",
       "    </tr>\n",
       "    <tr>\n",
       "      <th>199</th>\n",
       "      <td>200</td>\n",
       "      <td>Male</td>\n",
       "      <td>30</td>\n",
       "      <td>137</td>\n",
       "      <td>83</td>\n",
       "      <td>3</td>\n",
       "    </tr>\n",
       "  </tbody>\n",
       "</table>\n",
       "<p>200 rows × 6 columns</p>\n",
       "</div>"
      ],
      "text/plain": [
       "     CustomerID  Gender  Age  Annual Income (k$)  Spending Score (1-100)  \\\n",
       "0             1    Male   19                  15                      39   \n",
       "1             2    Male   21                  15                      81   \n",
       "2             3  Female   20                  16                       6   \n",
       "3             4  Female   23                  16                      77   \n",
       "4             5  Female   31                  17                      40   \n",
       "..          ...     ...  ...                 ...                     ...   \n",
       "195         196  Female   35                 120                      79   \n",
       "196         197  Female   45                 126                      28   \n",
       "197         198    Male   32                 126                      74   \n",
       "198         199    Male   32                 137                      18   \n",
       "199         200    Male   30                 137                      83   \n",
       "\n",
       "     Clusters  \n",
       "0           1  \n",
       "1           3  \n",
       "2           2  \n",
       "3           3  \n",
       "4           1  \n",
       "..        ...  \n",
       "195         3  \n",
       "196         2  \n",
       "197         3  \n",
       "198         2  \n",
       "199         3  \n",
       "\n",
       "[200 rows x 6 columns]"
      ]
     },
     "execution_count": 10,
     "metadata": {},
     "output_type": "execute_result"
    }
   ],
   "source": [
    "table_with_clusters=data.copy()\n",
    "table_with_clusters['Clusters']=identified_clusters\n",
    "table_with_clusters"
   ]
  },
  {
   "cell_type": "markdown",
   "id": "3515c49a",
   "metadata": {},
   "source": [
    "### Visualizing the number of clusters in the form of scatterplot"
   ]
  },
  {
   "cell_type": "code",
   "execution_count": 11,
   "id": "19697bad",
   "metadata": {
    "execution": {
     "iopub.execute_input": "2021-05-24T13:13:51.448309Z",
     "iopub.status.busy": "2021-05-24T13:13:51.447794Z",
     "iopub.status.idle": "2021-05-24T13:13:51.624488Z",
     "shell.execute_reply": "2021-05-24T13:13:51.624918Z",
     "shell.execute_reply.started": "2021-05-23T17:44:16.881643Z"
    },
    "papermill": {
     "duration": 0.202836,
     "end_time": "2021-05-24T13:13:51.625077",
     "exception": false,
     "start_time": "2021-05-24T13:13:51.422241",
     "status": "completed"
    },
    "tags": []
   },
   "outputs": [
    {
     "data": {
      "image/png": "[encoded data removed]",
      "text/plain": [
       "<Figure size 432x288 with 1 Axes>"
      ]
     },
     "metadata": {
      "needs_background": "light"
     },
     "output_type": "display_data"
    }
   ],
   "source": [
    "plt.scatter(table_with_clusters['Age'],table_with_clusters['Spending Score (1-100)'],c=table_with_clusters['Clusters'],cmap='rainbow')\n",
    "plt.xlabel('Age')\n",
    "plt.ylabel('Spending Score (1-100)')\n",
    "plt.title('Plot with clusters')\n",
    "plt.grid(linestyle = '--')\n",
    "plt.show()"
   ]
  },
  {
   "cell_type": "markdown",
   "id": "8490dcf8",
   "metadata": {},
   "source": [
    "b) Gender v/s Spending Score"
   ]
  },
  {
   "cell_type": "code",
   "execution_count": 12,
   "id": "76582f63",
   "metadata": {
    "execution": {
     "iopub.execute_input": "2021-05-24T13:13:51.861621Z",
     "iopub.status.busy": "2021-05-24T13:13:51.861077Z",
     "iopub.status.idle": "2021-05-24T13:13:52.102331Z",
     "shell.execute_reply": "2021-05-24T13:13:52.101882Z",
     "shell.execute_reply.started": "2021-05-23T17:44:17.064142Z"
    },
    "papermill": {
     "duration": 0.268708,
     "end_time": "2021-05-24T13:13:52.102459",
     "exception": false,
     "start_time": "2021-05-24T13:13:51.833751",
     "status": "completed"
    },
    "tags": []
   },
   "outputs": [
    {
     "data": {
      "image/png": "[encoded data removed]",
      "text/plain": [
       "<Figure size 720x360 with 1 Axes>"
      ]
     },
     "metadata": {
      "needs_background": "light"
     },
     "output_type": "display_data"
    }
   ],
   "source": [
    "plt.figure(1 , figsize = (10 , 5))\n",
    "ax=sns.countplot(x = 'Gender' , data = data)\n",
    "for p in ax.patches:\n",
    "    ax.annotate('{:}'.format(p.get_height()), (p.get_x()+0.3, p.get_height()+1))\n",
    "\n",
    "plt.show()  "
   ]
  },
  {
   "cell_type": "markdown",
   "id": "c0daaf2b",
   "metadata": {},
   "source": [
    "### Converting into numeric categorical feature (One Hot encoding)"
   ]
  },
  {
   "cell_type": "code",
   "execution_count": 13,
   "id": "9738912c",
   "metadata": {
    "execution": {
     "iopub.execute_input": "2021-05-24T13:13:52.161560Z",
     "iopub.status.busy": "2021-05-24T13:13:52.158439Z",
     "iopub.status.idle": "2021-05-24T13:13:52.165063Z",
     "shell.execute_reply": "2021-05-24T13:13:52.165495Z",
     "shell.execute_reply.started": "2021-05-23T17:44:17.190507Z"
    },
    "papermill": {
     "duration": 0.037519,
     "end_time": "2021-05-24T13:13:52.165664",
     "exception": false,
     "start_time": "2021-05-24T13:13:52.128145",
     "status": "completed"
    },
    "tags": []
   },
   "outputs": [
    {
     "data": {
      "text/html": [
       "<div>\n",
       "<style scoped>\n",
       "    .dataframe tbody tr th:only-of-type {\n",
       "        vertical-align: middle;\n",
       "    }\n",
       "\n",
       "    .dataframe tbody tr th {\n",
       "        vertical-align: top;\n",
       "    }\n",
       "\n",
       "    .dataframe thead th {\n",
       "        text-align: right;\n",
       "    }\n",
       "</style>\n",
       "<table border=\"1\" class=\"dataframe\">\n",
       "  <thead>\n",
       "    <tr style=\"text-align: right;\">\n",
       "      <th></th>\n",
       "      <th>Male</th>\n",
       "    </tr>\n",
       "  </thead>\n",
       "  <tbody>\n",
       "    <tr>\n",
       "      <th>0</th>\n",
       "      <td>1</td>\n",
       "    </tr>\n",
       "    <tr>\n",
       "      <th>1</th>\n",
       "      <td>1</td>\n",
       "    </tr>\n",
       "    <tr>\n",
       "      <th>2</th>\n",
       "      <td>0</td>\n",
       "    </tr>\n",
       "    <tr>\n",
       "      <th>3</th>\n",
       "      <td>0</td>\n",
       "    </tr>\n",
       "    <tr>\n",
       "      <th>4</th>\n",
       "      <td>0</td>\n",
       "    </tr>\n",
       "  </tbody>\n",
       "</table>\n",
       "</div>"
      ],
      "text/plain": [
       "   Male\n",
       "0     1\n",
       "1     1\n",
       "2     0\n",
       "3     0\n",
       "4     0"
      ]
     },
     "execution_count": 13,
     "metadata": {},
     "output_type": "execute_result"
    }
   ],
   "source": [
    "Gender=pd.get_dummies(data['Gender'],drop_first=True)\n",
    "Gender.head()"
   ]
  },
  {
   "cell_type": "code",
   "execution_count": 14,
   "id": "c26e2d8d",
   "metadata": {
    "execution": {
     "iopub.execute_input": "2021-05-24T13:13:52.227766Z",
     "iopub.status.busy": "2021-05-24T13:13:52.227162Z",
     "iopub.status.idle": "2021-05-24T13:13:52.229990Z",
     "shell.execute_reply": "2021-05-24T13:13:52.230469Z",
     "shell.execute_reply.started": "2021-05-23T17:44:17.202736Z"
    },
    "papermill": {
     "duration": 0.039079,
     "end_time": "2021-05-24T13:13:52.230624",
     "exception": false,
     "start_time": "2021-05-24T13:13:52.191545",
     "status": "completed"
    },
    "tags": []
   },
   "outputs": [
    {
     "data": {
      "text/html": [
       "<div>\n",
       "<style scoped>\n",
       "    .dataframe tbody tr th:only-of-type {\n",
       "        vertical-align: middle;\n",
       "    }\n",
       "\n",
       "    .dataframe tbody tr th {\n",
       "        vertical-align: top;\n",
       "    }\n",
       "\n",
       "    .dataframe thead th {\n",
       "        text-align: right;\n",
       "    }\n",
       "</style>\n",
       "<table border=\"1\" class=\"dataframe\">\n",
       "  <thead>\n",
       "    <tr style=\"text-align: right;\">\n",
       "      <th></th>\n",
       "      <th>CustomerID</th>\n",
       "      <th>Gender</th>\n",
       "      <th>Age</th>\n",
       "      <th>Annual Income (k$)</th>\n",
       "      <th>Spending Score (1-100)</th>\n",
       "      <th>Male</th>\n",
       "    </tr>\n",
       "  </thead>\n",
       "  <tbody>\n",
       "    <tr>\n",
       "      <th>0</th>\n",
       "      <td>1</td>\n",
       "      <td>Male</td>\n",
       "      <td>19</td>\n",
       "      <td>15</td>\n",
       "      <td>39</td>\n",
       "      <td>1</td>\n",
       "    </tr>\n",
       "    <tr>\n",
       "      <th>1</th>\n",
       "      <td>2</td>\n",
       "      <td>Male</td>\n",
       "      <td>21</td>\n",
       "      <td>15</td>\n",
       "      <td>81</td>\n",
       "      <td>1</td>\n",
       "    </tr>\n",
       "    <tr>\n",
       "      <th>2</th>\n",
       "      <td>3</td>\n",
       "      <td>Female</td>\n",
       "      <td>20</td>\n",
       "      <td>16</td>\n",
       "      <td>6</td>\n",
       "      <td>0</td>\n",
       "    </tr>\n",
       "    <tr>\n",
       "      <th>3</th>\n",
       "      <td>4</td>\n",
       "      <td>Female</td>\n",
       "      <td>23</td>\n",
       "      <td>16</td>\n",
       "      <td>77</td>\n",
       "      <td>0</td>\n",
       "    </tr>\n",
       "    <tr>\n",
       "      <th>4</th>\n",
       "      <td>5</td>\n",
       "      <td>Female</td>\n",
       "      <td>31</td>\n",
       "      <td>17</td>\n",
       "      <td>40</td>\n",
       "      <td>0</td>\n",
       "    </tr>\n",
       "  </tbody>\n",
       "</table>\n",
       "</div>"
      ],
      "text/plain": [
       "   CustomerID  Gender  Age  Annual Income (k$)  Spending Score (1-100)  Male\n",
       "0           1    Male   19                  15                      39     1\n",
       "1           2    Male   21                  15                      81     1\n",
       "2           3  Female   20                  16                       6     0\n",
       "3           4  Female   23                  16                      77     0\n",
       "4           5  Female   31                  17                      40     0"
      ]
     },
     "execution_count": 14,
     "metadata": {},
     "output_type": "execute_result"
    }
   ],
   "source": [
    "# Merging with original dataset and dropping the 'Gender' column\n",
    "data=pd.concat([data,Gender],axis=1)\n",
    "data.head()"
   ]
  },
  {
   "cell_type": "code",
   "execution_count": 15,
   "id": "f885be35",
   "metadata": {
    "execution": {
     "iopub.execute_input": "2021-05-24T13:13:52.286442Z",
     "iopub.status.busy": "2021-05-24T13:13:52.285926Z",
     "iopub.status.idle": "2021-05-24T13:13:52.296129Z",
     "shell.execute_reply": "2021-05-24T13:13:52.295721Z",
     "shell.execute_reply.started": "2021-05-23T17:44:17.222686Z"
    },
    "papermill": {
     "duration": 0.039108,
     "end_time": "2021-05-24T13:13:52.296249",
     "exception": false,
     "start_time": "2021-05-24T13:13:52.257141",
     "status": "completed"
    },
    "tags": []
   },
   "outputs": [
    {
     "data": {
      "text/html": [
       "<div>\n",
       "<style scoped>\n",
       "    .dataframe tbody tr th:only-of-type {\n",
       "        vertical-align: middle;\n",
       "    }\n",
       "\n",
       "    .dataframe tbody tr th {\n",
       "        vertical-align: top;\n",
       "    }\n",
       "\n",
       "    .dataframe thead th {\n",
       "        text-align: right;\n",
       "    }\n",
       "</style>\n",
       "<table border=\"1\" class=\"dataframe\">\n",
       "  <thead>\n",
       "    <tr style=\"text-align: right;\">\n",
       "      <th></th>\n",
       "      <th>CustomerID</th>\n",
       "      <th>Age</th>\n",
       "      <th>Annual Income (k$)</th>\n",
       "      <th>Spending Score (1-100)</th>\n",
       "      <th>Male</th>\n",
       "    </tr>\n",
       "  </thead>\n",
       "  <tbody>\n",
       "    <tr>\n",
       "      <th>0</th>\n",
       "      <td>1</td>\n",
       "      <td>19</td>\n",
       "      <td>15</td>\n",
       "      <td>39</td>\n",
       "      <td>1</td>\n",
       "    </tr>\n",
       "    <tr>\n",
       "      <th>1</th>\n",
       "      <td>2</td>\n",
       "      <td>21</td>\n",
       "      <td>15</td>\n",
       "      <td>81</td>\n",
       "      <td>1</td>\n",
       "    </tr>\n",
       "    <tr>\n",
       "      <th>2</th>\n",
       "      <td>3</td>\n",
       "      <td>20</td>\n",
       "      <td>16</td>\n",
       "      <td>6</td>\n",
       "      <td>0</td>\n",
       "    </tr>\n",
       "    <tr>\n",
       "      <th>3</th>\n",
       "      <td>4</td>\n",
       "      <td>23</td>\n",
       "      <td>16</td>\n",
       "      <td>77</td>\n",
       "      <td>0</td>\n",
       "    </tr>\n",
       "    <tr>\n",
       "      <th>4</th>\n",
       "      <td>5</td>\n",
       "      <td>31</td>\n",
       "      <td>17</td>\n",
       "      <td>40</td>\n",
       "      <td>0</td>\n",
       "    </tr>\n",
       "  </tbody>\n",
       "</table>\n",
       "</div>"
      ],
      "text/plain": [
       "   CustomerID  Age  Annual Income (k$)  Spending Score (1-100)  Male\n",
       "0           1   19                  15                      39     1\n",
       "1           2   21                  15                      81     1\n",
       "2           3   20                  16                       6     0\n",
       "3           4   23                  16                      77     0\n",
       "4           5   31                  17                      40     0"
      ]
     },
     "execution_count": 15,
     "metadata": {},
     "output_type": "execute_result"
    }
   ],
   "source": [
    "data.drop(['Gender'],axis=1,inplace=True)\n",
    "data.head()"
   ]
  },
  {
   "cell_type": "code",
   "execution_count": 16,
   "id": "a76cd567",
   "metadata": {
    "execution": {
     "iopub.execute_input": "2021-05-24T13:13:52.360496Z",
     "iopub.status.busy": "2021-05-24T13:13:52.359956Z",
     "iopub.status.idle": "2021-05-24T13:13:52.362511Z",
     "shell.execute_reply": "2021-05-24T13:13:52.363017Z",
     "shell.execute_reply.started": "2021-05-23T17:44:17.234427Z"
    },
    "papermill": {
     "duration": 0.040015,
     "end_time": "2021-05-24T13:13:52.363167",
     "exception": false,
     "start_time": "2021-05-24T13:13:52.323152",
     "status": "completed"
    },
    "tags": []
   },
   "outputs": [
    {
     "data": {
      "text/html": [
       "<div>\n",
       "<style scoped>\n",
       "    .dataframe tbody tr th:only-of-type {\n",
       "        vertical-align: middle;\n",
       "    }\n",
       "\n",
       "    .dataframe tbody tr th {\n",
       "        vertical-align: top;\n",
       "    }\n",
       "\n",
       "    .dataframe thead th {\n",
       "        text-align: right;\n",
       "    }\n",
       "</style>\n",
       "<table border=\"1\" class=\"dataframe\">\n",
       "  <thead>\n",
       "    <tr style=\"text-align: right;\">\n",
       "      <th></th>\n",
       "      <th>Male</th>\n",
       "      <th>Spending Score (1-100)</th>\n",
       "    </tr>\n",
       "  </thead>\n",
       "  <tbody>\n",
       "    <tr>\n",
       "      <th>0</th>\n",
       "      <td>1</td>\n",
       "      <td>39</td>\n",
       "    </tr>\n",
       "    <tr>\n",
       "      <th>1</th>\n",
       "      <td>1</td>\n",
       "      <td>81</td>\n",
       "    </tr>\n",
       "    <tr>\n",
       "      <th>2</th>\n",
       "      <td>0</td>\n",
       "      <td>6</td>\n",
       "    </tr>\n",
       "    <tr>\n",
       "      <th>3</th>\n",
       "      <td>0</td>\n",
       "      <td>77</td>\n",
       "    </tr>\n",
       "    <tr>\n",
       "      <th>4</th>\n",
       "      <td>0</td>\n",
       "      <td>40</td>\n",
       "    </tr>\n",
       "    <tr>\n",
       "      <th>...</th>\n",
       "      <td>...</td>\n",
       "      <td>...</td>\n",
       "    </tr>\n",
       "    <tr>\n",
       "      <th>195</th>\n",
       "      <td>0</td>\n",
       "      <td>79</td>\n",
       "    </tr>\n",
       "    <tr>\n",
       "      <th>196</th>\n",
       "      <td>0</td>\n",
       "      <td>28</td>\n",
       "    </tr>\n",
       "    <tr>\n",
       "      <th>197</th>\n",
       "      <td>1</td>\n",
       "      <td>74</td>\n",
       "    </tr>\n",
       "    <tr>\n",
       "      <th>198</th>\n",
       "      <td>1</td>\n",
       "      <td>18</td>\n",
       "    </tr>\n",
       "    <tr>\n",
       "      <th>199</th>\n",
       "      <td>1</td>\n",
       "      <td>83</td>\n",
       "    </tr>\n",
       "  </tbody>\n",
       "</table>\n",
       "<p>200 rows × 2 columns</p>\n",
       "</div>"
      ],
      "text/plain": [
       "     Male  Spending Score (1-100)\n",
       "0       1                      39\n",
       "1       1                      81\n",
       "2       0                       6\n",
       "3       0                      77\n",
       "4       0                      40\n",
       "..    ...                     ...\n",
       "195     0                      79\n",
       "196     0                      28\n",
       "197     1                      74\n",
       "198     1                      18\n",
       "199     1                      83\n",
       "\n",
       "[200 rows x 2 columns]"
      ]
     },
     "execution_count": 16,
     "metadata": {},
     "output_type": "execute_result"
    }
   ],
   "source": [
    "x=data[['Male','Spending Score (1-100)']]\n",
    "x"
   ]
  },
  {
   "cell_type": "markdown",
   "id": "b548d2c9",
   "metadata": {},
   "source": [
    "### Again finding the best number of clusters w.r.t gender"
   ]
  },
  {
   "cell_type": "code",
   "execution_count": 17,
   "id": "3d786de7",
   "metadata": {
    "execution": {
     "iopub.execute_input": "2021-05-24T13:13:52.422422Z",
     "iopub.status.busy": "2021-05-24T13:13:52.421895Z",
     "iopub.status.idle": "2021-05-24T13:13:52.678417Z",
     "shell.execute_reply": "2021-05-24T13:13:52.678997Z",
     "shell.execute_reply.started": "2021-05-23T17:44:17.254048Z"
    },
    "papermill": {
     "duration": 0.287549,
     "end_time": "2021-05-24T13:13:52.679170",
     "exception": false,
     "start_time": "2021-05-24T13:13:52.391621",
     "status": "completed"
    },
    "tags": []
   },
   "outputs": [
    {
     "name": "stderr",
     "output_type": "stream",
     "text": [
      "C:\\Users\\nupur\\anaconda3\\lib\\site-packages\\sklearn\\cluster\\_kmeans.py:881: UserWarning: KMeans is known to have a memory leak on Windows with MKL, when there are less chunks than available threads. You can avoid it by setting the environment variable OMP_NUM_THREADS=1.\n",
      "  warnings.warn(\n"
     ]
    }
   ],
   "source": [
    "\n",
    "wcss=[]\n",
    "for i in range(1,10):\n",
    "    kmeans = KMeans(n_clusters = i, init = 'k-means++', max_iter = 300, n_init = 10, random_state = 0)\n",
    "    kmeans.fit(x)\n",
    "    wcss.append(kmeans.inertia_)"
   ]
  },
  {
   "cell_type": "markdown",
   "id": "e31b8cf1",
   "metadata": {},
   "source": [
    "### Elbow method"
   ]
  },
  {
   "cell_type": "code",
   "execution_count": 18,
   "id": "fc4f3ee2",
   "metadata": {
    "execution": {
     "iopub.execute_input": "2021-05-24T13:13:52.754956Z",
     "iopub.status.busy": "2021-05-24T13:13:52.736240Z",
     "iopub.status.idle": "2021-05-24T13:13:52.903618Z",
     "shell.execute_reply": "2021-05-24T13:13:52.904038Z",
     "shell.execute_reply.started": "2021-05-23T17:44:17.501867Z"
    },
    "papermill": {
     "duration": 0.197184,
     "end_time": "2021-05-24T13:13:52.904199",
     "exception": false,
     "start_time": "2021-05-24T13:13:52.707015",
     "status": "completed"
    },
    "tags": []
   },
   "outputs": [
    {
     "data": {
      "image/png": "[encoded data removed]",
      "text/plain": [
       "<Figure size 432x288 with 1 Axes>"
      ]
     },
     "metadata": {
      "needs_background": "light"
     },
     "output_type": "display_data"
    }
   ],
   "source": [
    "no_of_clusters=range(1,10)\n",
    "plt.plot(no_of_clusters,wcss)\n",
    "plt.grid(linestyle = '--')"
   ]
  },
  {
   "cell_type": "code",
   "execution_count": 19,
   "id": "7114255d",
   "metadata": {
    "execution": {
     "iopub.execute_input": "2021-05-24T13:13:52.962963Z",
     "iopub.status.busy": "2021-05-24T13:13:52.962389Z",
     "iopub.status.idle": "2021-05-24T13:13:52.991772Z",
     "shell.execute_reply": "2021-05-24T13:13:52.991194Z",
     "shell.execute_reply.started": "2021-05-23T17:44:17.675924Z"
    },
    "papermill": {
     "duration": 0.059781,
     "end_time": "2021-05-24T13:13:52.991896",
     "exception": false,
     "start_time": "2021-05-24T13:13:52.932115",
     "status": "completed"
    },
    "tags": []
   },
   "outputs": [],
   "source": [
    "# Taking K = 3\n",
    "kmeans = KMeans(3)"
   ]
  },
  {
   "cell_type": "code",
   "execution_count": 20,
   "id": "aee066ef",
   "metadata": {
    "execution": {
     "iopub.execute_input": "2021-05-24T13:13:53.053702Z",
     "iopub.status.busy": "2021-05-24T13:13:53.053162Z",
     "iopub.status.idle": "2021-05-24T13:13:53.080108Z",
     "shell.execute_reply": "2021-05-24T13:13:53.079620Z",
     "shell.execute_reply.started": "2021-05-23T17:44:17.708612Z"
    },
    "papermill": {
     "duration": 0.06044,
     "end_time": "2021-05-24T13:13:53.080243",
     "exception": false,
     "start_time": "2021-05-24T13:13:53.019803",
     "status": "completed"
    },
    "tags": []
   },
   "outputs": [
    {
     "data": {
      "text/plain": [
       "array([0, 1, 2, 1, 0, 1, 2, 1, 2, 1, 2, 1, 2, 1, 2, 1, 0, 1, 2, 1, 0, 1,\n",
       "       2, 1, 2, 1, 0, 0, 2, 1, 2, 1, 2, 1, 2, 1, 2, 1, 2, 1, 0, 1, 0, 0,\n",
       "       2, 1, 0, 0, 0, 0, 0, 0, 0, 0, 0, 0, 0, 0, 0, 0, 0, 0, 0, 0, 0, 0,\n",
       "       0, 0, 0, 0, 0, 0, 0, 0, 0, 0, 0, 0, 0, 0, 0, 0, 0, 0, 0, 0, 0, 0,\n",
       "       0, 0, 0, 0, 0, 0, 0, 0, 0, 0, 0, 0, 0, 0, 0, 0, 0, 0, 0, 0, 0, 0,\n",
       "       0, 0, 0, 0, 0, 0, 0, 0, 0, 0, 0, 0, 0, 1, 2, 1, 0, 1, 2, 1, 2, 1,\n",
       "       0, 1, 2, 1, 2, 1, 2, 1, 2, 1, 0, 1, 2, 1, 0, 1, 2, 1, 2, 1, 2, 1,\n",
       "       2, 1, 2, 1, 2, 1, 0, 1, 2, 1, 2, 1, 2, 1, 2, 0, 2, 1, 2, 1, 2, 1,\n",
       "       2, 1, 2, 1, 0, 1, 2, 1, 0, 1, 2, 1, 2, 1, 2, 1, 2, 1, 2, 1, 2, 1,\n",
       "       2, 1])"
      ]
     },
     "execution_count": 20,
     "metadata": {},
     "output_type": "execute_result"
    }
   ],
   "source": [
    "identified_clusters=kmeans.fit_predict(x)\n",
    "identified_clusters "
   ]
  },
  {
   "cell_type": "markdown",
   "id": "521b1b2b",
   "metadata": {},
   "source": [
    "### Merging the original dataset with number of clusters"
   ]
  },
  {
   "cell_type": "code",
   "execution_count": 21,
   "id": "8abcee77",
   "metadata": {
    "execution": {
     "iopub.execute_input": "2021-05-24T13:13:53.151031Z",
     "iopub.status.busy": "2021-05-24T13:13:53.150149Z",
     "iopub.status.idle": "2021-05-24T13:13:53.154454Z",
     "shell.execute_reply": "2021-05-24T13:13:53.153902Z",
     "shell.execute_reply.started": "2021-05-23T17:44:17.741741Z"
    },
    "papermill": {
     "duration": 0.045929,
     "end_time": "2021-05-24T13:13:53.154580",
     "exception": false,
     "start_time": "2021-05-24T13:13:53.108651",
     "status": "completed"
    },
    "scrolled": true,
    "tags": []
   },
   "outputs": [
    {
     "data": {
      "text/html": [
       "<div>\n",
       "<style scoped>\n",
       "    .dataframe tbody tr th:only-of-type {\n",
       "        vertical-align: middle;\n",
       "    }\n",
       "\n",
       "    .dataframe tbody tr th {\n",
       "        vertical-align: top;\n",
       "    }\n",
       "\n",
       "    .dataframe thead th {\n",
       "        text-align: right;\n",
       "    }\n",
       "</style>\n",
       "<table border=\"1\" class=\"dataframe\">\n",
       "  <thead>\n",
       "    <tr style=\"text-align: right;\">\n",
       "      <th></th>\n",
       "      <th>CustomerID</th>\n",
       "      <th>Age</th>\n",
       "      <th>Annual Income (k$)</th>\n",
       "      <th>Spending Score (1-100)</th>\n",
       "      <th>Male</th>\n",
       "      <th>Clusters</th>\n",
       "    </tr>\n",
       "  </thead>\n",
       "  <tbody>\n",
       "    <tr>\n",
       "      <th>0</th>\n",
       "      <td>1</td>\n",
       "      <td>19</td>\n",
       "      <td>15</td>\n",
       "      <td>39</td>\n",
       "      <td>1</td>\n",
       "      <td>0</td>\n",
       "    </tr>\n",
       "    <tr>\n",
       "      <th>1</th>\n",
       "      <td>2</td>\n",
       "      <td>21</td>\n",
       "      <td>15</td>\n",
       "      <td>81</td>\n",
       "      <td>1</td>\n",
       "      <td>1</td>\n",
       "    </tr>\n",
       "    <tr>\n",
       "      <th>2</th>\n",
       "      <td>3</td>\n",
       "      <td>20</td>\n",
       "      <td>16</td>\n",
       "      <td>6</td>\n",
       "      <td>0</td>\n",
       "      <td>2</td>\n",
       "    </tr>\n",
       "    <tr>\n",
       "      <th>3</th>\n",
       "      <td>4</td>\n",
       "      <td>23</td>\n",
       "      <td>16</td>\n",
       "      <td>77</td>\n",
       "      <td>0</td>\n",
       "      <td>1</td>\n",
       "    </tr>\n",
       "    <tr>\n",
       "      <th>4</th>\n",
       "      <td>5</td>\n",
       "      <td>31</td>\n",
       "      <td>17</td>\n",
       "      <td>40</td>\n",
       "      <td>0</td>\n",
       "      <td>0</td>\n",
       "    </tr>\n",
       "    <tr>\n",
       "      <th>...</th>\n",
       "      <td>...</td>\n",
       "      <td>...</td>\n",
       "      <td>...</td>\n",
       "      <td>...</td>\n",
       "      <td>...</td>\n",
       "      <td>...</td>\n",
       "    </tr>\n",
       "    <tr>\n",
       "      <th>195</th>\n",
       "      <td>196</td>\n",
       "      <td>35</td>\n",
       "      <td>120</td>\n",
       "      <td>79</td>\n",
       "      <td>0</td>\n",
       "      <td>1</td>\n",
       "    </tr>\n",
       "    <tr>\n",
       "      <th>196</th>\n",
       "      <td>197</td>\n",
       "      <td>45</td>\n",
       "      <td>126</td>\n",
       "      <td>28</td>\n",
       "      <td>0</td>\n",
       "      <td>2</td>\n",
       "    </tr>\n",
       "    <tr>\n",
       "      <th>197</th>\n",
       "      <td>198</td>\n",
       "      <td>32</td>\n",
       "      <td>126</td>\n",
       "      <td>74</td>\n",
       "      <td>1</td>\n",
       "      <td>1</td>\n",
       "    </tr>\n",
       "    <tr>\n",
       "      <th>198</th>\n",
       "      <td>199</td>\n",
       "      <td>32</td>\n",
       "      <td>137</td>\n",
       "      <td>18</td>\n",
       "      <td>1</td>\n",
       "      <td>2</td>\n",
       "    </tr>\n",
       "    <tr>\n",
       "      <th>199</th>\n",
       "      <td>200</td>\n",
       "      <td>30</td>\n",
       "      <td>137</td>\n",
       "      <td>83</td>\n",
       "      <td>1</td>\n",
       "      <td>1</td>\n",
       "    </tr>\n",
       "  </tbody>\n",
       "</table>\n",
       "<p>200 rows × 6 columns</p>\n",
       "</div>"
      ],
      "text/plain": [
       "     CustomerID  Age  Annual Income (k$)  Spending Score (1-100)  Male  \\\n",
       "0             1   19                  15                      39     1   \n",
       "1             2   21                  15                      81     1   \n",
       "2             3   20                  16                       6     0   \n",
       "3             4   23                  16                      77     0   \n",
       "4             5   31                  17                      40     0   \n",
       "..          ...  ...                 ...                     ...   ...   \n",
       "195         196   35                 120                      79     0   \n",
       "196         197   45                 126                      28     0   \n",
       "197         198   32                 126                      74     1   \n",
       "198         199   32                 137                      18     1   \n",
       "199         200   30                 137                      83     1   \n",
       "\n",
       "     Clusters  \n",
       "0           0  \n",
       "1           1  \n",
       "2           2  \n",
       "3           1  \n",
       "4           0  \n",
       "..        ...  \n",
       "195         1  \n",
       "196         2  \n",
       "197         1  \n",
       "198         2  \n",
       "199         1  \n",
       "\n",
       "[200 rows x 6 columns]"
      ]
     },
     "execution_count": 21,
     "metadata": {},
     "output_type": "execute_result"
    }
   ],
   "source": [
    "table_with_clusters=data.copy()\n",
    "table_with_clusters['Clusters']=identified_clusters\n",
    "table_with_clusters"
   ]
  },
  {
   "cell_type": "markdown",
   "id": "4e402dc8",
   "metadata": {},
   "source": [
    "### Visualizing clusters"
   ]
  },
  {
   "cell_type": "code",
   "execution_count": 22,
   "id": "7d77c0e7",
   "metadata": {
    "execution": {
     "iopub.execute_input": "2021-05-24T13:13:53.250219Z",
     "iopub.status.busy": "2021-05-24T13:13:53.240069Z",
     "iopub.status.idle": "2021-05-24T13:13:53.377753Z",
     "shell.execute_reply": "2021-05-24T13:13:53.377214Z",
     "shell.execute_reply.started": "2021-05-23T17:44:17.75713Z"
    },
    "papermill": {
     "duration": 0.193836,
     "end_time": "2021-05-24T13:13:53.377878",
     "exception": false,
     "start_time": "2021-05-24T13:13:53.184042",
     "status": "completed"
    },
    "tags": []
   },
   "outputs": [
    {
     "data": {
      "image/png": "[encoded data removed]",
      "text/plain": [
       "<Figure size 432x288 with 1 Axes>"
      ]
     },
     "metadata": {
      "needs_background": "light"
     },
     "output_type": "display_data"
    }
   ],
   "source": [
    "plt.scatter(table_with_clusters['Spending Score (1-100)'],table_with_clusters['Male'],c=table_with_clusters['Clusters'],cmap='rainbow')\n",
    "plt.xlabel('Male')\n",
    "plt.ylabel('Spending Score (1-100)')\n",
    "plt.title('Plot with clusters')\n",
    "plt.grid(linestyle = '--')\n",
    "plt.show()"
   ]
  },
  {
   "cell_type": "markdown",
   "id": "2876d25b",
   "metadata": {},
   "source": [
    "c) Annual Income (k$) v/s Spending Score (1-100)"
   ]
  },
  {
   "cell_type": "code",
   "execution_count": 23,
   "id": "461e13ba",
   "metadata": {
    "execution": {
     "iopub.execute_input": "2021-05-24T13:13:53.502097Z",
     "iopub.status.busy": "2021-05-24T13:13:53.501227Z",
     "iopub.status.idle": "2021-05-24T13:13:53.512524Z",
     "shell.execute_reply": "2021-05-24T13:13:53.512017Z",
     "shell.execute_reply.started": "2021-05-23T17:44:17.923731Z"
    },
    "papermill": {
     "duration": 0.045182,
     "end_time": "2021-05-24T13:13:53.512643",
     "exception": false,
     "start_time": "2021-05-24T13:13:53.467461",
     "status": "completed"
    },
    "tags": []
   },
   "outputs": [
    {
     "ename": "FileNotFoundError",
     "evalue": "[Errno 2] No such file or directory: 'data.csv'",
     "output_type": "error",
     "traceback": [
      "\u001b[1;31m---------------------------------------------------------------------------\u001b[0m",
      "\u001b[1;31mFileNotFoundError\u001b[0m                         Traceback (most recent call last)",
      "\u001b[1;32m<ipython-input-23-8f86c6ed3583>\u001b[0m in \u001b[0;36m<module>\u001b[1;34m\u001b[0m\n\u001b[1;32m----> 1\u001b[1;33m \u001b[0mdata\u001b[0m\u001b[1;33m=\u001b[0m\u001b[0mpd\u001b[0m\u001b[1;33m.\u001b[0m\u001b[0mread_csv\u001b[0m\u001b[1;33m(\u001b[0m\u001b[1;34m'data.csv'\u001b[0m\u001b[1;33m)\u001b[0m\u001b[1;33m\u001b[0m\u001b[1;33m\u001b[0m\u001b[0m\n\u001b[0m\u001b[0;32m      2\u001b[0m \u001b[0mdata\u001b[0m\u001b[1;33m.\u001b[0m\u001b[0mhead\u001b[0m\u001b[1;33m(\u001b[0m\u001b[1;33m)\u001b[0m\u001b[1;33m\u001b[0m\u001b[1;33m\u001b[0m\u001b[0m\n",
      "\u001b[1;32m~\\anaconda3\\lib\\site-packages\\pandas\\io\\parsers.py\u001b[0m in \u001b[0;36mread_csv\u001b[1;34m(filepath_or_buffer, sep, delimiter, header, names, index_col, usecols, squeeze, prefix, mangle_dupe_cols, dtype, engine, converters, true_values, false_values, skipinitialspace, skiprows, skipfooter, nrows, na_values, keep_default_na, na_filter, verbose, skip_blank_lines, parse_dates, infer_datetime_format, keep_date_col, date_parser, dayfirst, cache_dates, iterator, chunksize, compression, thousands, decimal, lineterminator, quotechar, quoting, doublequote, escapechar, comment, encoding, dialect, error_bad_lines, warn_bad_lines, delim_whitespace, low_memory, memory_map, float_precision, storage_options)\u001b[0m\n\u001b[0;32m    608\u001b[0m     \u001b[0mkwds\u001b[0m\u001b[1;33m.\u001b[0m\u001b[0mupdate\u001b[0m\u001b[1;33m(\u001b[0m\u001b[0mkwds_defaults\u001b[0m\u001b[1;33m)\u001b[0m\u001b[1;33m\u001b[0m\u001b[1;33m\u001b[0m\u001b[0m\n\u001b[0;32m    609\u001b[0m \u001b[1;33m\u001b[0m\u001b[0m\n\u001b[1;32m--> 610\u001b[1;33m     \u001b[1;32mreturn\u001b[0m \u001b[0m_read\u001b[0m\u001b[1;33m(\u001b[0m\u001b[0mfilepath_or_buffer\u001b[0m\u001b[1;33m,\u001b[0m \u001b[0mkwds\u001b[0m\u001b[1;33m)\u001b[0m\u001b[1;33m\u001b[0m\u001b[1;33m\u001b[0m\u001b[0m\n\u001b[0m\u001b[0;32m    611\u001b[0m \u001b[1;33m\u001b[0m\u001b[0m\n\u001b[0;32m    612\u001b[0m \u001b[1;33m\u001b[0m\u001b[0m\n",
      "\u001b[1;32m~\\anaconda3\\lib\\site-packages\\pandas\\io\\parsers.py\u001b[0m in \u001b[0;36m_read\u001b[1;34m(filepath_or_buffer, kwds)\u001b[0m\n\u001b[0;32m    460\u001b[0m \u001b[1;33m\u001b[0m\u001b[0m\n\u001b[0;32m    461\u001b[0m     \u001b[1;31m# Create the parser.\u001b[0m\u001b[1;33m\u001b[0m\u001b[1;33m\u001b[0m\u001b[1;33m\u001b[0m\u001b[0m\n\u001b[1;32m--> 462\u001b[1;33m     \u001b[0mparser\u001b[0m \u001b[1;33m=\u001b[0m \u001b[0mTextFileReader\u001b[0m\u001b[1;33m(\u001b[0m\u001b[0mfilepath_or_buffer\u001b[0m\u001b[1;33m,\u001b[0m \u001b[1;33m**\u001b[0m\u001b[0mkwds\u001b[0m\u001b[1;33m)\u001b[0m\u001b[1;33m\u001b[0m\u001b[1;33m\u001b[0m\u001b[0m\n\u001b[0m\u001b[0;32m    463\u001b[0m \u001b[1;33m\u001b[0m\u001b[0m\n\u001b[0;32m    464\u001b[0m     \u001b[1;32mif\u001b[0m \u001b[0mchunksize\u001b[0m \u001b[1;32mor\u001b[0m \u001b[0miterator\u001b[0m\u001b[1;33m:\u001b[0m\u001b[1;33m\u001b[0m\u001b[1;33m\u001b[0m\u001b[0m\n",
      "\u001b[1;32m~\\anaconda3\\lib\\site-packages\\pandas\\io\\parsers.py\u001b[0m in \u001b[0;36m__init__\u001b[1;34m(self, f, engine, **kwds)\u001b[0m\n\u001b[0;32m    817\u001b[0m             \u001b[0mself\u001b[0m\u001b[1;33m.\u001b[0m\u001b[0moptions\u001b[0m\u001b[1;33m[\u001b[0m\u001b[1;34m\"has_index_names\"\u001b[0m\u001b[1;33m]\u001b[0m \u001b[1;33m=\u001b[0m \u001b[0mkwds\u001b[0m\u001b[1;33m[\u001b[0m\u001b[1;34m\"has_index_names\"\u001b[0m\u001b[1;33m]\u001b[0m\u001b[1;33m\u001b[0m\u001b[1;33m\u001b[0m\u001b[0m\n\u001b[0;32m    818\u001b[0m \u001b[1;33m\u001b[0m\u001b[0m\n\u001b[1;32m--> 819\u001b[1;33m         \u001b[0mself\u001b[0m\u001b[1;33m.\u001b[0m\u001b[0m_engine\u001b[0m \u001b[1;33m=\u001b[0m \u001b[0mself\u001b[0m\u001b[1;33m.\u001b[0m\u001b[0m_make_engine\u001b[0m\u001b[1;33m(\u001b[0m\u001b[0mself\u001b[0m\u001b[1;33m.\u001b[0m\u001b[0mengine\u001b[0m\u001b[1;33m)\u001b[0m\u001b[1;33m\u001b[0m\u001b[1;33m\u001b[0m\u001b[0m\n\u001b[0m\u001b[0;32m    820\u001b[0m \u001b[1;33m\u001b[0m\u001b[0m\n\u001b[0;32m    821\u001b[0m     \u001b[1;32mdef\u001b[0m \u001b[0mclose\u001b[0m\u001b[1;33m(\u001b[0m\u001b[0mself\u001b[0m\u001b[1;33m)\u001b[0m\u001b[1;33m:\u001b[0m\u001b[1;33m\u001b[0m\u001b[1;33m\u001b[0m\u001b[0m\n",
      "\u001b[1;32m~\\anaconda3\\lib\\site-packages\\pandas\\io\\parsers.py\u001b[0m in \u001b[0;36m_make_engine\u001b[1;34m(self, engine)\u001b[0m\n\u001b[0;32m   1048\u001b[0m             )\n\u001b[0;32m   1049\u001b[0m         \u001b[1;31m# error: Too many arguments for \"ParserBase\"\u001b[0m\u001b[1;33m\u001b[0m\u001b[1;33m\u001b[0m\u001b[1;33m\u001b[0m\u001b[0m\n\u001b[1;32m-> 1050\u001b[1;33m         \u001b[1;32mreturn\u001b[0m \u001b[0mmapping\u001b[0m\u001b[1;33m[\u001b[0m\u001b[0mengine\u001b[0m\u001b[1;33m]\u001b[0m\u001b[1;33m(\u001b[0m\u001b[0mself\u001b[0m\u001b[1;33m.\u001b[0m\u001b[0mf\u001b[0m\u001b[1;33m,\u001b[0m \u001b[1;33m**\u001b[0m\u001b[0mself\u001b[0m\u001b[1;33m.\u001b[0m\u001b[0moptions\u001b[0m\u001b[1;33m)\u001b[0m  \u001b[1;31m# type: ignore[call-arg]\u001b[0m\u001b[1;33m\u001b[0m\u001b[1;33m\u001b[0m\u001b[0m\n\u001b[0m\u001b[0;32m   1051\u001b[0m \u001b[1;33m\u001b[0m\u001b[0m\n\u001b[0;32m   1052\u001b[0m     \u001b[1;32mdef\u001b[0m \u001b[0m_failover_to_python\u001b[0m\u001b[1;33m(\u001b[0m\u001b[0mself\u001b[0m\u001b[1;33m)\u001b[0m\u001b[1;33m:\u001b[0m\u001b[1;33m\u001b[0m\u001b[1;33m\u001b[0m\u001b[0m\n",
      "\u001b[1;32m~\\anaconda3\\lib\\site-packages\\pandas\\io\\parsers.py\u001b[0m in \u001b[0;36m__init__\u001b[1;34m(self, src, **kwds)\u001b[0m\n\u001b[0;32m   1865\u001b[0m \u001b[1;33m\u001b[0m\u001b[0m\n\u001b[0;32m   1866\u001b[0m         \u001b[1;31m# open handles\u001b[0m\u001b[1;33m\u001b[0m\u001b[1;33m\u001b[0m\u001b[1;33m\u001b[0m\u001b[0m\n\u001b[1;32m-> 1867\u001b[1;33m         \u001b[0mself\u001b[0m\u001b[1;33m.\u001b[0m\u001b[0m_open_handles\u001b[0m\u001b[1;33m(\u001b[0m\u001b[0msrc\u001b[0m\u001b[1;33m,\u001b[0m \u001b[0mkwds\u001b[0m\u001b[1;33m)\u001b[0m\u001b[1;33m\u001b[0m\u001b[1;33m\u001b[0m\u001b[0m\n\u001b[0m\u001b[0;32m   1868\u001b[0m         \u001b[1;32massert\u001b[0m \u001b[0mself\u001b[0m\u001b[1;33m.\u001b[0m\u001b[0mhandles\u001b[0m \u001b[1;32mis\u001b[0m \u001b[1;32mnot\u001b[0m \u001b[1;32mNone\u001b[0m\u001b[1;33m\u001b[0m\u001b[1;33m\u001b[0m\u001b[0m\n\u001b[0;32m   1869\u001b[0m         \u001b[1;32mfor\u001b[0m \u001b[0mkey\u001b[0m \u001b[1;32min\u001b[0m \u001b[1;33m(\u001b[0m\u001b[1;34m\"storage_options\"\u001b[0m\u001b[1;33m,\u001b[0m \u001b[1;34m\"encoding\"\u001b[0m\u001b[1;33m,\u001b[0m \u001b[1;34m\"memory_map\"\u001b[0m\u001b[1;33m,\u001b[0m \u001b[1;34m\"compression\"\u001b[0m\u001b[1;33m)\u001b[0m\u001b[1;33m:\u001b[0m\u001b[1;33m\u001b[0m\u001b[1;33m\u001b[0m\u001b[0m\n",
      "\u001b[1;32m~\\anaconda3\\lib\\site-packages\\pandas\\io\\parsers.py\u001b[0m in \u001b[0;36m_open_handles\u001b[1;34m(self, src, kwds)\u001b[0m\n\u001b[0;32m   1360\u001b[0m         \u001b[0mLet\u001b[0m \u001b[0mthe\u001b[0m \u001b[0mreaders\u001b[0m \u001b[0mopen\u001b[0m \u001b[0mIOHanldes\u001b[0m \u001b[0mafter\u001b[0m \u001b[0mthey\u001b[0m \u001b[0mare\u001b[0m \u001b[0mdone\u001b[0m \u001b[1;32mwith\u001b[0m \u001b[0mtheir\u001b[0m \u001b[0mpotential\u001b[0m \u001b[0mraises\u001b[0m\u001b[1;33m.\u001b[0m\u001b[1;33m\u001b[0m\u001b[1;33m\u001b[0m\u001b[0m\n\u001b[0;32m   1361\u001b[0m         \"\"\"\n\u001b[1;32m-> 1362\u001b[1;33m         self.handles = get_handle(\n\u001b[0m\u001b[0;32m   1363\u001b[0m             \u001b[0msrc\u001b[0m\u001b[1;33m,\u001b[0m\u001b[1;33m\u001b[0m\u001b[1;33m\u001b[0m\u001b[0m\n\u001b[0;32m   1364\u001b[0m             \u001b[1;34m\"r\"\u001b[0m\u001b[1;33m,\u001b[0m\u001b[1;33m\u001b[0m\u001b[1;33m\u001b[0m\u001b[0m\n",
      "\u001b[1;32m~\\anaconda3\\lib\\site-packages\\pandas\\io\\common.py\u001b[0m in \u001b[0;36mget_handle\u001b[1;34m(path_or_buf, mode, encoding, compression, memory_map, is_text, errors, storage_options)\u001b[0m\n\u001b[0;32m    640\u001b[0m                 \u001b[0merrors\u001b[0m \u001b[1;33m=\u001b[0m \u001b[1;34m\"replace\"\u001b[0m\u001b[1;33m\u001b[0m\u001b[1;33m\u001b[0m\u001b[0m\n\u001b[0;32m    641\u001b[0m             \u001b[1;31m# Encoding\u001b[0m\u001b[1;33m\u001b[0m\u001b[1;33m\u001b[0m\u001b[1;33m\u001b[0m\u001b[0m\n\u001b[1;32m--> 642\u001b[1;33m             handle = open(\n\u001b[0m\u001b[0;32m    643\u001b[0m                 \u001b[0mhandle\u001b[0m\u001b[1;33m,\u001b[0m\u001b[1;33m\u001b[0m\u001b[1;33m\u001b[0m\u001b[0m\n\u001b[0;32m    644\u001b[0m                 \u001b[0mioargs\u001b[0m\u001b[1;33m.\u001b[0m\u001b[0mmode\u001b[0m\u001b[1;33m,\u001b[0m\u001b[1;33m\u001b[0m\u001b[1;33m\u001b[0m\u001b[0m\n",
      "\u001b[1;31mFileNotFoundError\u001b[0m: [Errno 2] No such file or directory: 'data.csv'"
     ]
    }
   ],
   "source": [
    "data=pd.read_csv('data.csv')\n",
    "data.head()"
   ]
  },
  {
   "cell_type": "code",
   "execution_count": null,
   "id": "fdbdc406",
   "metadata": {
    "execution": {
     "iopub.execute_input": "2021-05-24T13:13:53.610366Z",
     "iopub.status.busy": "2021-05-24T13:13:53.609400Z",
     "iopub.status.idle": "2021-05-24T13:13:53.747356Z",
     "shell.execute_reply": "2021-05-24T13:13:53.746923Z",
     "shell.execute_reply.started": "2021-05-23T17:44:17.937475Z"
    },
    "papermill": {
     "duration": 0.2049,
     "end_time": "2021-05-24T13:13:53.747481",
     "exception": false,
     "start_time": "2021-05-24T13:13:53.542581",
     "status": "completed"
    },
    "tags": []
   },
   "outputs": [],
   "source": [
    "plt.scatter(data['Annual Income (k$)'],data['Spending Score (1-100)'])\n",
    "plt.xlabel('Annual Income (k$)')\n",
    "plt.ylabel('Spending Score (1-100)')\n",
    "plt.grid(linestyle = '--')\n",
    "plt.show()"
   ]
  },
  {
   "cell_type": "code",
   "execution_count": 24,
   "id": "dcb9811e",
   "metadata": {
    "execution": {
     "iopub.execute_input": "2021-05-24T13:13:53.819670Z",
     "iopub.status.busy": "2021-05-24T13:13:53.819116Z",
     "iopub.status.idle": "2021-05-24T13:13:53.822561Z",
     "shell.execute_reply": "2021-05-24T13:13:53.822135Z",
     "shell.execute_reply.started": "2021-05-23T17:44:18.10594Z"
    },
    "papermill": {
     "duration": 0.04415,
     "end_time": "2021-05-24T13:13:53.822690",
     "exception": false,
     "start_time": "2021-05-24T13:13:53.778540",
     "status": "completed"
    },
    "tags": []
   },
   "outputs": [
    {
     "data": {
      "text/html": [
       "<div>\n",
       "<style scoped>\n",
       "    .dataframe tbody tr th:only-of-type {\n",
       "        vertical-align: middle;\n",
       "    }\n",
       "\n",
       "    .dataframe tbody tr th {\n",
       "        vertical-align: top;\n",
       "    }\n",
       "\n",
       "    .dataframe thead th {\n",
       "        text-align: right;\n",
       "    }\n",
       "</style>\n",
       "<table border=\"1\" class=\"dataframe\">\n",
       "  <thead>\n",
       "    <tr style=\"text-align: right;\">\n",
       "      <th></th>\n",
       "      <th>Annual Income (k$)</th>\n",
       "      <th>Spending Score (1-100)</th>\n",
       "    </tr>\n",
       "  </thead>\n",
       "  <tbody>\n",
       "    <tr>\n",
       "      <th>0</th>\n",
       "      <td>15</td>\n",
       "      <td>39</td>\n",
       "    </tr>\n",
       "    <tr>\n",
       "      <th>1</th>\n",
       "      <td>15</td>\n",
       "      <td>81</td>\n",
       "    </tr>\n",
       "    <tr>\n",
       "      <th>2</th>\n",
       "      <td>16</td>\n",
       "      <td>6</td>\n",
       "    </tr>\n",
       "    <tr>\n",
       "      <th>3</th>\n",
       "      <td>16</td>\n",
       "      <td>77</td>\n",
       "    </tr>\n",
       "    <tr>\n",
       "      <th>4</th>\n",
       "      <td>17</td>\n",
       "      <td>40</td>\n",
       "    </tr>\n",
       "    <tr>\n",
       "      <th>...</th>\n",
       "      <td>...</td>\n",
       "      <td>...</td>\n",
       "    </tr>\n",
       "    <tr>\n",
       "      <th>195</th>\n",
       "      <td>120</td>\n",
       "      <td>79</td>\n",
       "    </tr>\n",
       "    <tr>\n",
       "      <th>196</th>\n",
       "      <td>126</td>\n",
       "      <td>28</td>\n",
       "    </tr>\n",
       "    <tr>\n",
       "      <th>197</th>\n",
       "      <td>126</td>\n",
       "      <td>74</td>\n",
       "    </tr>\n",
       "    <tr>\n",
       "      <th>198</th>\n",
       "      <td>137</td>\n",
       "      <td>18</td>\n",
       "    </tr>\n",
       "    <tr>\n",
       "      <th>199</th>\n",
       "      <td>137</td>\n",
       "      <td>83</td>\n",
       "    </tr>\n",
       "  </tbody>\n",
       "</table>\n",
       "<p>200 rows × 2 columns</p>\n",
       "</div>"
      ],
      "text/plain": [
       "     Annual Income (k$)  Spending Score (1-100)\n",
       "0                    15                      39\n",
       "1                    15                      81\n",
       "2                    16                       6\n",
       "3                    16                      77\n",
       "4                    17                      40\n",
       "..                  ...                     ...\n",
       "195                 120                      79\n",
       "196                 126                      28\n",
       "197                 126                      74\n",
       "198                 137                      18\n",
       "199                 137                      83\n",
       "\n",
       "[200 rows x 2 columns]"
      ]
     },
     "execution_count": 24,
     "metadata": {},
     "output_type": "execute_result"
    }
   ],
   "source": [
    "x=data[['Annual Income (k$)','Spending Score (1-100)']]\n",
    "x"
   ]
  },
  {
   "cell_type": "markdown",
   "id": "5ddfb762",
   "metadata": {},
   "source": [
    "### Finding the best cluster based on Annual Income"
   ]
  },
  {
   "cell_type": "code",
   "execution_count": 25,
   "id": "5be20e18",
   "metadata": {
    "execution": {
     "iopub.execute_input": "2021-05-24T13:13:53.892388Z",
     "iopub.status.busy": "2021-05-24T13:13:53.891828Z",
     "iopub.status.idle": "2021-05-24T13:13:54.172064Z",
     "shell.execute_reply": "2021-05-24T13:13:54.171535Z",
     "shell.execute_reply.started": "2021-05-23T17:44:18.119659Z"
    },
    "papermill": {
     "duration": 0.317535,
     "end_time": "2021-05-24T13:13:54.172212",
     "exception": false,
     "start_time": "2021-05-24T13:13:53.854677",
     "status": "completed"
    },
    "tags": []
   },
   "outputs": [
    {
     "name": "stderr",
     "output_type": "stream",
     "text": [
      "C:\\Users\\nupur\\anaconda3\\lib\\site-packages\\sklearn\\cluster\\_kmeans.py:881: UserWarning: KMeans is known to have a memory leak on Windows with MKL, when there are less chunks than available threads. You can avoid it by setting the environment variable OMP_NUM_THREADS=1.\n",
      "  warnings.warn(\n"
     ]
    }
   ],
   "source": [
    "\n",
    "wcss=[]\n",
    "for i in range(1,10):\n",
    "    kmeans = KMeans(n_clusters = i, init = 'k-means++', max_iter = 300, n_init = 10, random_state = 0)\n",
    "    kmeans.fit(x)\n",
    "    wcss.append(kmeans.inertia_)"
   ]
  },
  {
   "cell_type": "markdown",
   "id": "d2859ef2",
   "metadata": {},
   "source": [
    "### Elbow method"
   ]
  },
  {
   "cell_type": "code",
   "execution_count": 26,
   "id": "d1ef6405",
   "metadata": {
    "execution": {
     "iopub.execute_input": "2021-05-24T13:13:54.257562Z",
     "iopub.status.busy": "2021-05-24T13:13:54.256963Z",
     "iopub.status.idle": "2021-05-24T13:13:54.398426Z",
     "shell.execute_reply": "2021-05-24T13:13:54.398006Z",
     "shell.execute_reply.started": "2021-05-23T17:44:18.387589Z"
    },
    "papermill": {
     "duration": 0.195102,
     "end_time": "2021-05-24T13:13:54.398548",
     "exception": false,
     "start_time": "2021-05-24T13:13:54.203446",
     "status": "completed"
    },
    "tags": []
   },
   "outputs": [
    {
     "data": {
      "image/png": "[encoded data removed]",
      "text/plain": [
       "<Figure size 432x288 with 1 Axes>"
      ]
     },
     "metadata": {
      "needs_background": "light"
     },
     "output_type": "display_data"
    }
   ],
   "source": [
    "no_of_clusters=range(1,10)\n",
    "plt.plot(no_of_clusters,wcss)\n",
    "plt.grid(linestyle = '--')\n",
    "plt.show()"
   ]
  },
  {
   "cell_type": "code",
   "execution_count": 27,
   "id": "43052781",
   "metadata": {
    "execution": {
     "iopub.execute_input": "2021-05-24T13:13:54.468905Z",
     "iopub.status.busy": "2021-05-24T13:13:54.467968Z",
     "iopub.status.idle": "2021-05-24T13:13:54.501069Z",
     "shell.execute_reply": "2021-05-24T13:13:54.501471Z",
     "shell.execute_reply.started": "2021-05-23T17:44:18.558192Z"
    },
    "papermill": {
     "duration": 0.071007,
     "end_time": "2021-05-24T13:13:54.501621",
     "exception": false,
     "start_time": "2021-05-24T13:13:54.430614",
     "status": "completed"
    },
    "tags": []
   },
   "outputs": [],
   "source": [
    "# Taking k=5\n",
    "kmeans = KMeans(5)"
   ]
  },
  {
   "cell_type": "code",
   "execution_count": 28,
   "id": "b21deb90",
   "metadata": {
    "execution": {
     "iopub.execute_input": "2021-05-24T13:13:54.571395Z",
     "iopub.status.busy": "2021-05-24T13:13:54.570849Z",
     "iopub.status.idle": "2021-05-24T13:13:54.601514Z",
     "shell.execute_reply": "2021-05-24T13:13:54.601010Z",
     "shell.execute_reply.started": "2021-05-23T17:44:18.596758Z"
    },
    "papermill": {
     "duration": 0.067866,
     "end_time": "2021-05-24T13:13:54.601634",
     "exception": false,
     "start_time": "2021-05-24T13:13:54.533768",
     "status": "completed"
    },
    "tags": []
   },
   "outputs": [
    {
     "data": {
      "text/plain": [
       "array([2, 0, 2, 0, 2, 0, 2, 0, 2, 0, 2, 0, 2, 0, 2, 0, 2, 0, 2, 0, 2, 0,\n",
       "       2, 0, 2, 0, 2, 0, 2, 0, 2, 0, 2, 0, 2, 0, 2, 0, 2, 0, 2, 0, 2, 3,\n",
       "       2, 0, 3, 3, 3, 3, 3, 3, 3, 3, 3, 3, 3, 3, 3, 3, 3, 3, 3, 3, 3, 3,\n",
       "       3, 3, 3, 3, 3, 3, 3, 3, 3, 3, 3, 3, 3, 3, 3, 3, 3, 3, 3, 3, 3, 3,\n",
       "       3, 3, 3, 3, 3, 3, 3, 3, 3, 3, 3, 3, 3, 3, 3, 3, 3, 3, 3, 3, 3, 3,\n",
       "       3, 3, 3, 3, 3, 3, 3, 3, 3, 3, 3, 3, 3, 4, 1, 4, 3, 4, 1, 4, 1, 4,\n",
       "       3, 4, 1, 4, 1, 4, 1, 4, 1, 4, 3, 4, 1, 4, 1, 4, 1, 4, 1, 4, 1, 4,\n",
       "       1, 4, 1, 4, 1, 4, 1, 4, 1, 4, 1, 4, 1, 4, 1, 4, 1, 4, 1, 4, 1, 4,\n",
       "       1, 4, 1, 4, 1, 4, 1, 4, 1, 4, 1, 4, 1, 4, 1, 4, 1, 4, 1, 4, 1, 4,\n",
       "       1, 4])"
      ]
     },
     "execution_count": 28,
     "metadata": {},
     "output_type": "execute_result"
    }
   ],
   "source": [
    "identified_clusters=kmeans.fit_predict(x)\n",
    "identified_clusters "
   ]
  },
  {
   "cell_type": "code",
   "execution_count": 29,
   "id": "e11ee37e",
   "metadata": {
    "execution": {
     "iopub.execute_input": "2021-05-24T13:13:54.679586Z",
     "iopub.status.busy": "2021-05-24T13:13:54.676012Z",
     "iopub.status.idle": "2021-05-24T13:13:54.683629Z",
     "shell.execute_reply": "2021-05-24T13:13:54.683185Z",
     "shell.execute_reply.started": "2021-05-23T17:44:18.632986Z"
    },
    "papermill": {
     "duration": 0.049518,
     "end_time": "2021-05-24T13:13:54.683770",
     "exception": false,
     "start_time": "2021-05-24T13:13:54.634252",
     "status": "completed"
    },
    "scrolled": true,
    "tags": []
   },
   "outputs": [
    {
     "data": {
      "text/html": [
       "<div>\n",
       "<style scoped>\n",
       "    .dataframe tbody tr th:only-of-type {\n",
       "        vertical-align: middle;\n",
       "    }\n",
       "\n",
       "    .dataframe tbody tr th {\n",
       "        vertical-align: top;\n",
       "    }\n",
       "\n",
       "    .dataframe thead th {\n",
       "        text-align: right;\n",
       "    }\n",
       "</style>\n",
       "<table border=\"1\" class=\"dataframe\">\n",
       "  <thead>\n",
       "    <tr style=\"text-align: right;\">\n",
       "      <th></th>\n",
       "      <th>CustomerID</th>\n",
       "      <th>Age</th>\n",
       "      <th>Annual Income (k$)</th>\n",
       "      <th>Spending Score (1-100)</th>\n",
       "      <th>Male</th>\n",
       "      <th>Clusters</th>\n",
       "    </tr>\n",
       "  </thead>\n",
       "  <tbody>\n",
       "    <tr>\n",
       "      <th>0</th>\n",
       "      <td>1</td>\n",
       "      <td>19</td>\n",
       "      <td>15</td>\n",
       "      <td>39</td>\n",
       "      <td>1</td>\n",
       "      <td>2</td>\n",
       "    </tr>\n",
       "    <tr>\n",
       "      <th>1</th>\n",
       "      <td>2</td>\n",
       "      <td>21</td>\n",
       "      <td>15</td>\n",
       "      <td>81</td>\n",
       "      <td>1</td>\n",
       "      <td>0</td>\n",
       "    </tr>\n",
       "    <tr>\n",
       "      <th>2</th>\n",
       "      <td>3</td>\n",
       "      <td>20</td>\n",
       "      <td>16</td>\n",
       "      <td>6</td>\n",
       "      <td>0</td>\n",
       "      <td>2</td>\n",
       "    </tr>\n",
       "    <tr>\n",
       "      <th>3</th>\n",
       "      <td>4</td>\n",
       "      <td>23</td>\n",
       "      <td>16</td>\n",
       "      <td>77</td>\n",
       "      <td>0</td>\n",
       "      <td>0</td>\n",
       "    </tr>\n",
       "    <tr>\n",
       "      <th>4</th>\n",
       "      <td>5</td>\n",
       "      <td>31</td>\n",
       "      <td>17</td>\n",
       "      <td>40</td>\n",
       "      <td>0</td>\n",
       "      <td>2</td>\n",
       "    </tr>\n",
       "    <tr>\n",
       "      <th>...</th>\n",
       "      <td>...</td>\n",
       "      <td>...</td>\n",
       "      <td>...</td>\n",
       "      <td>...</td>\n",
       "      <td>...</td>\n",
       "      <td>...</td>\n",
       "    </tr>\n",
       "    <tr>\n",
       "      <th>195</th>\n",
       "      <td>196</td>\n",
       "      <td>35</td>\n",
       "      <td>120</td>\n",
       "      <td>79</td>\n",
       "      <td>0</td>\n",
       "      <td>4</td>\n",
       "    </tr>\n",
       "    <tr>\n",
       "      <th>196</th>\n",
       "      <td>197</td>\n",
       "      <td>45</td>\n",
       "      <td>126</td>\n",
       "      <td>28</td>\n",
       "      <td>0</td>\n",
       "      <td>1</td>\n",
       "    </tr>\n",
       "    <tr>\n",
       "      <th>197</th>\n",
       "      <td>198</td>\n",
       "      <td>32</td>\n",
       "      <td>126</td>\n",
       "      <td>74</td>\n",
       "      <td>1</td>\n",
       "      <td>4</td>\n",
       "    </tr>\n",
       "    <tr>\n",
       "      <th>198</th>\n",
       "      <td>199</td>\n",
       "      <td>32</td>\n",
       "      <td>137</td>\n",
       "      <td>18</td>\n",
       "      <td>1</td>\n",
       "      <td>1</td>\n",
       "    </tr>\n",
       "    <tr>\n",
       "      <th>199</th>\n",
       "      <td>200</td>\n",
       "      <td>30</td>\n",
       "      <td>137</td>\n",
       "      <td>83</td>\n",
       "      <td>1</td>\n",
       "      <td>4</td>\n",
       "    </tr>\n",
       "  </tbody>\n",
       "</table>\n",
       "<p>200 rows × 6 columns</p>\n",
       "</div>"
      ],
      "text/plain": [
       "     CustomerID  Age  Annual Income (k$)  Spending Score (1-100)  Male  \\\n",
       "0             1   19                  15                      39     1   \n",
       "1             2   21                  15                      81     1   \n",
       "2             3   20                  16                       6     0   \n",
       "3             4   23                  16                      77     0   \n",
       "4             5   31                  17                      40     0   \n",
       "..          ...  ...                 ...                     ...   ...   \n",
       "195         196   35                 120                      79     0   \n",
       "196         197   45                 126                      28     0   \n",
       "197         198   32                 126                      74     1   \n",
       "198         199   32                 137                      18     1   \n",
       "199         200   30                 137                      83     1   \n",
       "\n",
       "     Clusters  \n",
       "0           2  \n",
       "1           0  \n",
       "2           2  \n",
       "3           0  \n",
       "4           2  \n",
       "..        ...  \n",
       "195         4  \n",
       "196         1  \n",
       "197         4  \n",
       "198         1  \n",
       "199         4  \n",
       "\n",
       "[200 rows x 6 columns]"
      ]
     },
     "execution_count": 29,
     "metadata": {},
     "output_type": "execute_result"
    }
   ],
   "source": [
    "table_with_clusters=data.copy()\n",
    "table_with_clusters['Clusters']=identified_clusters\n",
    "table_with_clusters"
   ]
  },
  {
   "cell_type": "markdown",
   "id": "f8836c9f",
   "metadata": {},
   "source": [
    "### Visualizing number of clusters"
   ]
  },
  {
   "cell_type": "code",
   "execution_count": 30,
   "id": "d34b66de",
   "metadata": {
    "execution": {
     "iopub.execute_input": "2021-05-24T13:13:54.787409Z",
     "iopub.status.busy": "2021-05-24T13:13:54.754913Z",
     "iopub.status.idle": "2021-05-24T13:13:54.925121Z",
     "shell.execute_reply": "2021-05-24T13:13:54.924577Z",
     "shell.execute_reply.started": "2021-05-23T17:44:18.651152Z"
    },
    "papermill": {
     "duration": 0.208181,
     "end_time": "2021-05-24T13:13:54.925244",
     "exception": false,
     "start_time": "2021-05-24T13:13:54.717063",
     "status": "completed"
    },
    "tags": []
   },
   "outputs": [
    {
     "data": {
      "image/png": "[encoded data removed]",
      "text/plain": [
       "<Figure size 432x288 with 1 Axes>"
      ]
     },
     "metadata": {
      "needs_background": "light"
     },
     "output_type": "display_data"
    }
   ],
   "source": [
    "plt.scatter(table_with_clusters['Annual Income (k$)'],table_with_clusters['Spending Score (1-100)'],c=table_with_clusters['Clusters'],cmap='rainbow')\n",
    "plt.xlabel('Annual Income (k$)')\n",
    "plt.ylabel('Spending Score (1-100)')\n",
    "plt.title('Plot with clusters')\n",
    "plt.grid(linestyle = '--')\n",
    "plt.show()"
   ]
  },
  {
   "cell_type": "code",
   "execution_count": null,
   "id": "faa85c32",
   "metadata": {
    "papermill": {
     "duration": 0.033746,
     "end_time": "2021-05-24T13:13:54.993263",
     "exception": false,
     "start_time": "2021-05-24T13:13:54.959517",
     "status": "completed"
    },
    "tags": []
   },
   "outputs": [],
   "source": []
  },
  {
   "cell_type": "code",
   "execution_count": null,
   "id": "31b5df31",
   "metadata": {},
   "outputs": [],
   "source": []
  }
 ],
 "metadata": {
  "kernelspec": {
   "display_name": "Python 3",
   "language": "python",
   "name": "python3"
  },
  "language_info": {
   "codemirror_mode": {
    "name": "ipython",
    "version": 3
   },
   "file_extension": ".py",
   "mimetype": "text/x-python",
   "name": "python",
   "nbconvert_exporter": "python",
   "pygments_lexer": "ipython3",
   "version": "3.8.8"
  },
  "papermill": {
   "default_parameters": {},
   "duration": 14.804501,
   "end_time": "2021-05-24T13:13:56.581578",
   "environment_variables": {},
   "exception": null,
   "input_path": "__notebook__.ipynb",
   "output_path": "__notebook__.ipynb",
   "parameters": {},
   "start_time": "2021-05-24T13:13:41.777077",
   "version": "2.3.3"
  }
 },
 "nbformat": 4,
 "nbformat_minor": 5
}
